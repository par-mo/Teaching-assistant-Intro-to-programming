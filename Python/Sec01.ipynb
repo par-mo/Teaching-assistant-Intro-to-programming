{
 "cells": [
  {
   "cell_type": "markdown",
   "metadata": {},
   "source": [
    "## Book: Python cookbook, 3rd edition, 2013"
   ]
  },
  {
   "cell_type": "markdown",
   "metadata": {},
   "source": [
    "**------------------------------------------------------------** "
   ]
  },
  {
   "cell_type": "markdown",
   "metadata": {},
   "source": [
    "#### 1.1 Unpacking a Sequence into Separate Variables"
   ]
  },
  {
   "cell_type": "markdown",
   "metadata": {},
   "source": [
    "You have an N-element tuple or sequence that you would like to unpack into a collection of N variables."
   ]
  },
  {
   "cell_type": "code",
   "execution_count": 11,
   "metadata": {},
   "outputs": [
    {
     "name": "stdout",
     "output_type": "stream",
     "text": [
      "a= H\n"
     ]
    }
   ],
   "source": [
    "s = 'Hello'\n",
    "a, b, c, d, e = s\n",
    "print ('a=',a)"
   ]
  },
  {
   "cell_type": "code",
   "execution_count": 13,
   "metadata": {},
   "outputs": [
    {
     "name": "stdout",
     "output_type": "stream",
     "text": [
      "tail= [10, 7, 4, 5, 9]\n"
     ]
    }
   ],
   "source": [
    "items = [1, 10, 7, 4, 5, 9] \n",
    "head, *tail = items\n",
    " \n",
    "print('tail=',tail)"
   ]
  },
  {
   "cell_type": "code",
   "execution_count": 14,
   "metadata": {},
   "outputs": [
    {
     "name": "stdout",
     "output_type": "stream",
     "text": [
      "shares= 50\n"
     ]
    }
   ],
   "source": [
    "data = [ 'ACME', 50, 91.1, (2012, 12, 21) ] \n",
    "_, shares, price, _ = data\n",
    "print('shares=', shares) "
   ]
  },
  {
   "cell_type": "markdown",
   "metadata": {},
   "source": [
    "**------------------------------------------------------------** "
   ]
  },
  {
   "cell_type": "markdown",
   "metadata": {},
   "source": [
    "#### 1.2  Unpacking Elements from Iterables of Arbitrary Length"
   ]
  },
  {
   "cell_type": "markdown",
   "metadata": {},
   "source": [
    "You need to unpack N elements from an iterable, but the iterable may **be longer than N elements**, causing a “too many values to unpack” exception."
   ]
  },
  {
   "cell_type": "code",
   "execution_count": 20,
   "metadata": {},
   "outputs": [
    {
     "data": {
      "text/plain": [
       "50"
      ]
     },
     "execution_count": 20,
     "metadata": {},
     "output_type": "execute_result"
    }
   ],
   "source": [
    "items = [15, 10, 7, 4, 5, 9] \n",
    "head, *tail = items\n",
    "\n",
    "def sum(items):\n",
    "    head, *tail = items\n",
    "    return head + sum(tail) if tail else head \n",
    "\n",
    "sum(items)"
   ]
  },
  {
   "cell_type": "markdown",
   "metadata": {},
   "source": [
    "**------------------------------------------------------------** "
   ]
  },
  {
   "cell_type": "markdown",
   "metadata": {},
   "source": [
    "#### 1.3 Keeping the Last N Items"
   ]
  },
  {
   "cell_type": "markdown",
   "metadata": {},
   "source": [
    "Keeping a limited history is a perfect use for a _collections.deque_. For example, the following code performs a simple text match on a sequence of lines and yields the matching line along with the previous N lines of context when found:"
   ]
  },
  {
   "cell_type": "markdown",
   "metadata": {},
   "source": [
    "###### collections.deque."
   ]
  },
  {
   "cell_type": "code",
   "execution_count": 4,
   "metadata": {},
   "outputs": [
    {
     "name": "stdout",
     "output_type": "stream",
     "text": [
      "\n",
      "To install Plotly's python package: \n",
      "--------------------\n",
      "\n",
      "To install Plotly's python package: \n",
      "--------------------\n",
      "\n",
      "To install Plotly's python package: \n",
      "--------------------\n",
      "\n",
      "To install Plotly's python package: \n",
      "--------------------\n",
      "\n",
      "To install Plotly's python package: \n",
      "--------------------\n"
     ]
    }
   ],
   "source": [
    "from collections import deque\n",
    "\n",
    "def search(lines, pattern, history=5): \n",
    "    previous_lines = deque(maxlen=history) \n",
    "    for line in lines:\n",
    "        if pattern in line:\n",
    "            yield line, previous_lines\n",
    "        previous_lines.append(line)\n",
    "            #append: adding to the right\n",
    "    \n",
    "    \n",
    "    # Example use on a file\n",
    "if __name__ == '__main__':\n",
    "    with open('somefile.txt') as f:\n",
    "        for line, prevlines in search(f, 'python', 5): \n",
    "            for pline in prevlines:\n",
    "                print(pline, end='') \n",
    "                print(line, end='') \n",
    "                print('-'*20)"
   ]
  },
  {
   "cell_type": "markdown",
   "metadata": {},
   "source": [
    "**------------------------------------------------------------** "
   ]
  },
  {
   "cell_type": "markdown",
   "metadata": {},
   "source": [
    "\n",
    "\n",
    "#### 1.4 Finding the Largest or Smallest N Items"
   ]
  },
  {
   "cell_type": "markdown",
   "metadata": {},
   "source": [
    "You want to make a list of the largest or smallest N items in a collection.\n",
    "\n",
    "\n",
    "#### Solution\n",
    "The **heapq** module has two functions __nlargest()__ and __nsmallest()__ that do exactly what you want."
   ]
  },
  {
   "cell_type": "markdown",
   "metadata": {},
   "source": [
    "The **heappop() method** always return the smallest value."
   ]
  },
  {
   "cell_type": "code",
   "execution_count": 9,
   "metadata": {},
   "outputs": [
    {
     "name": "stdout",
     "output_type": "stream",
     "text": [
      "largest: [42, 37, 23]\n",
      "smallest: [-4]\n"
     ]
    }
   ],
   "source": [
    "import heapq\n",
    "\n",
    "nums = [1, 8, 2, 23, 7, -4, 18, 23, 42, 37, 2] \n",
    "print('largest:',heapq.nlargest(3, nums)) \n",
    "# Prints 3 largest in order: [42, 37, 23] \n",
    "\n",
    "print('smallest:', heapq.nsmallest(1, nums)) \n",
    "# Prints 1 smallest: [-4]"
   ]
  },
  {
   "cell_type": "code",
   "execution_count": 14,
   "metadata": {},
   "outputs": [
    {
     "name": "stdout",
     "output_type": "stream",
     "text": [
      "[{'name': 'YHOO', 'shares': 45, 'price': 16.35}]\n",
      "[{'name': 'AAPL', 'shares': 50, 'price': 543.22}]\n"
     ]
    }
   ],
   "source": [
    "portfolio = [\n",
    "       {'name': 'IBM', 'shares': 100, 'price': 91.1},\n",
    "       {'name': 'AAPL', 'shares': 50, 'price': 543.22},\n",
    "       {'name': 'FB', 'shares': 200, 'price': 21.09},\n",
    "       {'name': 'HPQ', 'shares': 35, 'price': 31.75},\n",
    "       {'name': 'YHOO', 'shares': 45, 'price': 16.35},\n",
    "       {'name': 'ACME', 'shares': 75, 'price': 115.65}\n",
    "]\n",
    "cheap = heapq.nsmallest(1, portfolio, key=lambda s: s['price'])\n",
    "expensive = heapq.nlargest(1, portfolio, key=lambda s: s['price'])\n",
    "\n",
    "\n",
    "\n",
    "print(cheap)\n",
    "print(expensive)"
   ]
  },
  {
   "cell_type": "markdown",
   "metadata": {},
   "source": [
    "**------------------------------------------------------------** "
   ]
  },
  {
   "cell_type": "markdown",
   "metadata": {},
   "source": [
    "#### 1.5. Implementing a Priority Queue \n",
    "\n",
    "\n",
    "\n",
    "You want to implement a queue that sorts items by a given priority and always returns the item with the highest priority on each pop operation."
   ]
  },
  {
   "cell_type": "markdown",
   "metadata": {},
   "source": [
    "old-school manner: "
   ]
  },
  {
   "cell_type": "code",
   "execution_count": 20,
   "metadata": {},
   "outputs": [
    {
     "name": "stdout",
     "output_type": "stream",
     "text": [
      "1. Ordered array: [0, 1, 2, 3, 4, 5, 6, 7, 8, 9]\n",
      "2. Sort data in old-school way: True\n"
     ]
    }
   ],
   "source": [
    "from heapq import heappush, heappop\n",
    "# Here, I use heappush and heapop  \n",
    "\n",
    "heap=[]\n",
    "data=[1,3,5,7,9,2,4,6,8,0]\n",
    "for item in data: \n",
    "    heappush(heap,item)\n",
    "    \n",
    "ordered=[]\n",
    "while heap:\n",
    "    ordered.append(heappop(heap))\n",
    "\n",
    "print('1. Ordered array:',ordered)\n",
    "data.sort() # sort the data array\n",
    "print('2. Sort data in old-school way:',data==ordered) \n",
    "# print if the sorted data and ordered array are same"
   ]
  },
  {
   "cell_type": "markdown",
   "metadata": {},
   "source": [
    "Another implementation:"
   ]
  },
  {
   "cell_type": "code",
   "execution_count": 22,
   "metadata": {},
   "outputs": [
    {
     "name": "stdout",
     "output_type": "stream",
     "text": [
      "1. Item('bar')\n",
      "2. Item('spam')\n",
      "3. Item('foo')\n",
      "4. Item('grok')\n"
     ]
    }
   ],
   "source": [
    "# Better implementation \n",
    "\n",
    "\n",
    "import heapq\n",
    "# I make 2 classes here, \n",
    "# I make my own class. I call the first class in the second one\n",
    "\n",
    "\n",
    "class PriorityQueue: \n",
    "    def __init__(self):\n",
    "        self._queue=[]\n",
    "        self._index=0\n",
    "        \n",
    "    def push(self,item,priority): # I use heappush here, to import an element \n",
    "        heapq.heappush(self._queue,(-priority, self._index,item))\n",
    "        self._index +=1\n",
    "    \n",
    "    def pop(self): # I use heappush here, to export(remove) an element \n",
    "            return heapq.heappop(self._queue)[-1]\n",
    "    \n",
    "#Here is an example how to use it\n",
    "\n",
    "\n",
    "class Item:\n",
    "    def __init__(self,name):\n",
    "        self.name=name\n",
    "    def __repr__(self):\n",
    "        return 'Item({!r})'.format(self.name)\n",
    "    \n",
    "q = PriorityQueue()\n",
    "q.push(Item('foo'), 1)\n",
    "q.push(Item('bar'), 5) \n",
    "q.push(Item('spam'), 4) \n",
    "q.push(Item('grok'), 1)\n",
    "\n",
    "\n",
    "print('1.',q.pop() )\n",
    "print('2.',q.pop()) \n",
    "print('3.',q.pop()) \n",
    "print('4.',q.pop() )\n"
   ]
  },
  {
   "cell_type": "markdown",
   "metadata": {},
   "source": [
    "The **push** and **pop** operations have O (log N) complexity where N is the number of items in the heap, they are fairly efficient even for fairly large values of N."
   ]
  },
  {
   "cell_type": "markdown",
   "metadata": {},
   "source": [
    "**------------------------------------------------------------** "
   ]
  },
  {
   "cell_type": "markdown",
   "metadata": {},
   "source": [
    "#### 1.6. Mapping Keys to Multiple Values in a Dictionary Problem"
   ]
  },
  {
   "cell_type": "code",
   "execution_count": 48,
   "metadata": {},
   "outputs": [
    {
     "name": "stdout",
     "output_type": "stream",
     "text": [
      "1. My dictionary: {'Brand': 'Ford', 'Model': 'Mustang', 'Year': 1964, 'Country': 'USA', 'Market': 'North America', 'year': 2018}\n",
      "2. My second version: {'Brand': 'Ford', 'Model': 'Mustang', 'Year': 1964, 'Country': 'USA', 'Market': 'North America', 'year': 2018, 'Color': 'red'}\n",
      "3. My third version: {'Brand': 'Ford', 'Year': 1964, 'Country': 'USA', 'Market': 'North America', 'year': 2018, 'Color': 'red'}\n",
      "-No! color does not exist in my dictionary. \n",
      "-Yes! Color exists in my dictionary. \n",
      "Length: 3\n"
     ]
    }
   ],
   "source": [
    "myDict = {\n",
    "  \"Brand\": \"Ford\",\n",
    "  \"Model\": \"Mustang\",\n",
    "  \"Year\": 1964,\n",
    "  \"Country\": \"USA\",\n",
    "  \"Market\": \"North America\"   \n",
    "}\n",
    "myDict[\"year\"] = 2018\n",
    "\n",
    "print('1. My dictionary:',myDict)\n",
    "\n",
    "myDict[\"Color\"] = \"red\"\n",
    "# Adding new item to the dictionary\n",
    "print('2. My second version:',myDict)\n",
    "\n",
    "\n",
    "myDict.pop(\"Model\")\n",
    "#How to remove an item from my dictionary\n",
    "print('3. My third version:',myDict)\n",
    "\n",
    "\n",
    "\n",
    "\n",
    "if \"color\" in myDict: #case sensetive\n",
    "  print(\"Yes! color exists in my dictionary. \")\n",
    "# Check if \"color\" is present in the dictionary\n",
    "else : \n",
    "    print(\"-No! color does not exist in my dictionary. \")\n",
    "    \n",
    "    \n",
    "    \n",
    "if \"Color\" in myDict:\n",
    "  print(\"-Yes! Color exists in my dictionary. \")\n",
    "# Check if \"Color\" is present in the dictionary\n",
    "\n",
    "\n",
    "print('Length:',len(thisdict))\n",
    "# Print the number of items in the dictionary"
   ]
  },
  {
   "cell_type": "markdown",
   "metadata": {},
   "source": [
    "__More sufficticated problem:__\n",
    "\n",
    "\n",
    "You want to make a dictionary that maps keys to more than one value (a so-called “multidict”)."
   ]
  },
  {
   "cell_type": "markdown",
   "metadata": {},
   "source": [
    "__Solution:__\n",
    "\n",
    "\n",
    "A dictionary is a mapping where each key is mapped to a single value. If you want to map keys to multiple values, you need to store the multiple values in another container such as a list or set. For example, you might make dictionaries like this:"
   ]
  },
  {
   "cell_type": "code",
   "execution_count": null,
   "metadata": {},
   "outputs": [],
   "source": []
  }
 ],
 "metadata": {
  "kernelspec": {
   "display_name": "Python 3",
   "language": "python",
   "name": "python3"
  },
  "language_info": {
   "codemirror_mode": {
    "name": "ipython",
    "version": 3
   },
   "file_extension": ".py",
   "mimetype": "text/x-python",
   "name": "python",
   "nbconvert_exporter": "python",
   "pygments_lexer": "ipython3",
   "version": "3.7.1"
  }
 },
 "nbformat": 4,
 "nbformat_minor": 2
}
